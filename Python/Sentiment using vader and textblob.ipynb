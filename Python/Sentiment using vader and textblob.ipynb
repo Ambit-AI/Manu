{
 "cells": [
  {
   "cell_type": "code",
   "execution_count": 1,
   "id": "0ee92d02-6334-48b8-abbb-4ff57f2bbab0",
   "metadata": {},
   "outputs": [],
   "source": [
    "import nltk\n",
    "from nltk.sentiment.vader import SentimentIntensityAnalyzer\n",
    "\n"
   ]
  },
  {
   "cell_type": "code",
   "execution_count": null,
   "id": "7f0c2a83-1e5a-4b11-bc18-a075e3b94233",
   "metadata": {},
   "outputs": [
    {
     "name": "stderr",
     "output_type": "stream",
     "text": [
      "[nltk_data] Downloading package vader_lexicon to\n",
      "[nltk_data]     C:\\Users\\manu2\\AppData\\Roaming\\nltk_data...\n",
      "[nltk_data]   Package vader_lexicon is already up-to-date!\n"
     ]
    }
   ],
   "source": [
    "# initialize the sentiment analyzer\n",
    "nltk.download('vader_lexicon')\n",
    "sia = SentimentIntensityAnalyzer()\n",
    "\n",
    "# get user input\n",
    "text = input(\"\")\n",
    "\n",
    "# analyze sentiment of the text\n",
    "sentiment = sia.polarity_scores(text)\n",
    "\n",
    "# print the sentiment analysis results\n",
    "print(f\"Sentiment Analysis Results: {sentiment}\")\n"
   ]
  },
  {
   "cell_type": "code",
   "execution_count": null,
   "id": "338b3e17-ca7b-43af-8c49-836a627f0532",
   "metadata": {},
   "outputs": [],
   "source": [
    "import nltk\n",
    "from nltk.sentiment.vader import SentimentIntensityAnalyzer\n",
    "\n",
    "nltk.download('vader_lexicon')  # download VADER lexicon if not already present\n",
    "\n",
    "def detect_sentiment(text):\n",
    "    # Create a SentimentIntensityAnalyzer object\n",
    "    analyzer = SentimentIntensityAnalyzer()\n",
    "    # Use the polarity_scores() method to get a dictionary of scores\n",
    "    scores = analyzer.polarity_scores(text)\n",
    "    # Extract the compound score, which ranges from -1 (most negative) to 1 (most positive)\n",
    "    compound_score = scores['compound']\n",
    "    # Use the compound score to determine the overall sentiment\n",
    "    if compound_score >= 0.05:\n",
    "        return 'Positive'\n",
    "    elif compound_score <= -0.05:\n",
    "        return 'Negative'\n",
    "    else:\n",
    "        return 'Neutral'\n",
    "\n",
    "# Test the function with some sample text\n",
    "text = \"The pizza is okay but it needs more flavour.\"\n",
    "print(detect_sentiment(text))  # Output: Positive\n"
   ]
  },
  {
   "cell_type": "code",
   "execution_count": null,
   "id": "3203f4b2-fed0-40f7-bce0-e29601d5568d",
   "metadata": {},
   "outputs": [],
   "source": [
    "from textblob import TextBlob\n",
    "\n",
    "def detect_sentiment(text):\n",
    "    blob = TextBlob(text)\n",
    "    sentiment = blob.sentiment.polarity\n",
    "    if sentiment > 0:\n",
    "        return 'Positive'\n",
    "    elif sentiment < 0:\n",
    "        return 'Negative'\n",
    "    else:\n",
    "        return 'Neutral'\n",
    "\n",
    "text = \"I love this product, it's amazing!\"\n",
    "sentiment = detect_sentiment(text)\n",
    "print(sentiment)"
   ]
  },
  {
   "cell_type": "code",
   "execution_count": null,
   "id": "84b5528e-6d42-46aa-a116-25019c268ab8",
   "metadata": {},
   "outputs": [],
   "source": [
    "import numpy as np\n",
    "import pandas as pd\n",
    "from sklearn.model_selection import train_test_split\n",
    "from sklearn.feature_extraction.text import CountVectorizer\n",
    "from sklearn.svm import SVC\n",
    "\n",
    "# # Load the dataset\n",
    "# df = pd.read_csv('imdb_dataset.csv')\n",
    "\n",
    "# # Split the dataset into training and testing sets\n",
    "# train_df, test_df = train_test_split(df, test_size=0.2, random_state=42)\n",
    "\n",
    "# # Convert the text data to a bag-of-words representation\n",
    "# vectorizer = CountVectorizer(stop_words='english')\n",
    "# X_train = vectorizer.fit_transform(train_df['review'])\n",
    "# X_test = vectorizer.transform(test_df['review'])\n",
    "\n",
    "# # Convert the sentiment labels to numerical values\n",
    "# y_train = np.where(train_df['sentiment'] == 'positive', 1, 0)\n",
    "# y_test = np.where(test_df['sentiment'] == 'positive', 1, 0)\n",
    "\n",
    "# # Train a Support Vector Machine classifier\n",
    "# svm = SVC(kernel='linear', random_state=42)\n",
    "# svm.fit(X_train, y_train)\n",
    "\n",
    "# # Evaluate the classifier on the testing set\n",
    "# accuracy = svm.score(X_test, y_test)\n",
    "# print('Accuracy:', accuracy)"
   ]
  },
  {
   "cell_type": "code",
   "execution_count": null,
   "id": "1bdb3061-1ca1-40c0-9992-84e526853d20",
   "metadata": {},
   "outputs": [],
   "source": []
  }
 ],
 "metadata": {
  "kernelspec": {
   "display_name": "Python 3 (ipykernel)",
   "language": "python",
   "name": "python3"
  },
  "language_info": {
   "codemirror_mode": {
    "name": "ipython",
    "version": 3
   },
   "file_extension": ".py",
   "mimetype": "text/x-python",
   "name": "python",
   "nbconvert_exporter": "python",
   "pygments_lexer": "ipython3",
   "version": "3.9.7"
  }
 },
 "nbformat": 4,
 "nbformat_minor": 5
}
